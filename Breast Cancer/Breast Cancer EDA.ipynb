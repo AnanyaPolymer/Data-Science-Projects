{
 "cells": [
  {
   "cell_type": "markdown",
   "id": "judicial-anger",
   "metadata": {},
   "source": [
    "## Data is for breast cancer in women for breast cancer awareness"
   ]
  },
  {
   "cell_type": "markdown",
   "id": "stone-kingdom",
   "metadata": {},
   "source": [
    "### Downloading data from Kaggle"
   ]
  },
  {
   "cell_type": "code",
   "execution_count": 1,
   "id": "reverse-bolivia",
   "metadata": {},
   "outputs": [
    {
     "name": "stdout",
     "output_type": "stream",
     "text": [
      "Requirement already satisfied: opendatasets in c:\\users\\abhij\\appdata\\local\\packages\\pythonsoftwarefoundation.python.3.9_qbz5n2kfra8p0\\localcache\\local-packages\\python39\\site-packages (0.1.22)"
     ]
    },
    {
     "name": "stderr",
     "output_type": "stream",
     "text": [
      "WARNING: You are using pip version 21.0.1; however, version 22.2.2 is available.\n",
      "You should consider upgrading via the 'C:\\Users\\abhij\\AppData\\Local\\Microsoft\\WindowsApps\\PythonSoftwareFoundation.Python.3.9_qbz5n2kfra8p0\\python.exe -m pip install --upgrade pip' command.\n"
     ]
    },
    {
     "name": "stdout",
     "output_type": "stream",
     "text": [
      "\n",
      "Requirement already satisfied: click in c:\\users\\abhij\\appdata\\local\\packages\\pythonsoftwarefoundation.python.3.9_qbz5n2kfra8p0\\localcache\\local-packages\\python39\\site-packages (from opendatasets) (8.1.3)\n",
      "Requirement already satisfied: kaggle in c:\\users\\abhij\\appdata\\local\\packages\\pythonsoftwarefoundation.python.3.9_qbz5n2kfra8p0\\localcache\\local-packages\\python39\\site-packages (from opendatasets) (1.5.12)\n",
      "Requirement already satisfied: tqdm in c:\\users\\abhij\\appdata\\local\\packages\\pythonsoftwarefoundation.python.3.9_qbz5n2kfra8p0\\localcache\\local-packages\\python39\\site-packages (from opendatasets) (4.64.1)\n",
      "Requirement already satisfied: colorama in c:\\users\\abhij\\appdata\\local\\packages\\pythonsoftwarefoundation.python.3.9_qbz5n2kfra8p0\\localcache\\local-packages\\python39\\site-packages (from click->opendatasets) (0.4.4)\n",
      "Requirement already satisfied: six>=1.10 in c:\\users\\abhij\\appdata\\local\\packages\\pythonsoftwarefoundation.python.3.9_qbz5n2kfra8p0\\localcache\\local-packages\\python39\\site-packages (from kaggle->opendatasets) (1.15.0)\n",
      "Requirement already satisfied: certifi in c:\\users\\abhij\\appdata\\local\\packages\\pythonsoftwarefoundation.python.3.9_qbz5n2kfra8p0\\localcache\\local-packages\\python39\\site-packages (from kaggle->opendatasets) (2020.12.5)\n",
      "Requirement already satisfied: python-dateutil in c:\\users\\abhij\\appdata\\local\\packages\\pythonsoftwarefoundation.python.3.9_qbz5n2kfra8p0\\localcache\\local-packages\\python39\\site-packages (from kaggle->opendatasets) (2.8.1)\n",
      "Requirement already satisfied: requests in c:\\users\\abhij\\appdata\\local\\packages\\pythonsoftwarefoundation.python.3.9_qbz5n2kfra8p0\\localcache\\local-packages\\python39\\site-packages (from kaggle->opendatasets) (2.25.1)\n",
      "Requirement already satisfied: python-slugify in c:\\users\\abhij\\appdata\\local\\packages\\pythonsoftwarefoundation.python.3.9_qbz5n2kfra8p0\\localcache\\local-packages\\python39\\site-packages (from kaggle->opendatasets) (6.1.2)\n",
      "Requirement already satisfied: urllib3 in c:\\users\\abhij\\appdata\\local\\packages\\pythonsoftwarefoundation.python.3.9_qbz5n2kfra8p0\\localcache\\local-packages\\python39\\site-packages (from kaggle->opendatasets) (1.26.3)\n",
      "Requirement already satisfied: text-unidecode>=1.3 in c:\\users\\abhij\\appdata\\local\\packages\\pythonsoftwarefoundation.python.3.9_qbz5n2kfra8p0\\localcache\\local-packages\\python39\\site-packages (from python-slugify->kaggle->opendatasets) (1.3)\n",
      "Requirement already satisfied: idna<3,>=2.5 in c:\\users\\abhij\\appdata\\local\\packages\\pythonsoftwarefoundation.python.3.9_qbz5n2kfra8p0\\localcache\\local-packages\\python39\\site-packages (from requests->kaggle->opendatasets) (2.10)\n",
      "Requirement already satisfied: chardet<5,>=3.0.2 in c:\\users\\abhij\\appdata\\local\\packages\\pythonsoftwarefoundation.python.3.9_qbz5n2kfra8p0\\localcache\\local-packages\\python39\\site-packages (from requests->kaggle->opendatasets) (4.0.0)\n"
     ]
    }
   ],
   "source": [
    "!pip3 install opendatasets"
   ]
  },
  {
   "cell_type": "code",
   "execution_count": 2,
   "id": "hired-muscle",
   "metadata": {},
   "outputs": [],
   "source": [
    "import opendatasets as od"
   ]
  },
  {
   "cell_type": "code",
   "execution_count": 3,
   "id": "extensive-canvas",
   "metadata": {},
   "outputs": [
    {
     "name": "stdout",
     "output_type": "stream",
     "text": [
      "Skipping, found downloaded files in \".\\breast-cancer\" (use force=True to force download)\n"
     ]
    }
   ],
   "source": [
    "od.download(\"https://www.kaggle.com/datasets/reihanenamdari/breast-cancer\")"
   ]
  },
  {
   "cell_type": "markdown",
   "id": "accepting-opposition",
   "metadata": {},
   "source": []
  },
  {
   "cell_type": "markdown",
   "id": "rough-windsor",
   "metadata": {},
   "source": [
    "### Read the Meta-data and columns description"
   ]
  },
  {
   "cell_type": "code",
   "execution_count": 4,
   "id": "furnished-parameter",
   "metadata": {},
   "outputs": [
    {
     "name": "stdout",
     "output_type": "stream",
     "text": [
      "F:\\PDM-2022\\Course Materials-20220923\\Lecture-1\n"
     ]
    }
   ],
   "source": [
    "import os\n",
    "path = os.getcwd()\n",
    "print(path)"
   ]
  },
  {
   "cell_type": "code",
   "execution_count": 5,
   "id": "opponent-creek",
   "metadata": {},
   "outputs": [
    {
     "name": "stdout",
     "output_type": "stream",
     "text": [
      "[['Age' 'Race' 'Marital Status' 'T Stage ' 'N Stage' '6th Stage'\n",
      "  'differentiate' 'Grade' 'A Stage' 'Tumor Size' 'Estrogen Status'\n",
      "  'Progesterone Status' 'Regional Node Examined' 'Reginol Node Positive'\n",
      "  'Survival Months' 'Status']\n",
      " ['68' 'White' 'Married' 'T1' 'N1' 'IIA' 'Poorly differentiated' '3'\n",
      "  'Regional' '4' 'Positive' 'Positive' '24' '1' '60' 'Alive']\n",
      " ['50' 'White' 'Married' 'T2' 'N2' 'IIIA' 'Moderately differentiated' '2'\n",
      "  'Regional' '35' 'Positive' 'Positive' '14' '5' '62' 'Alive']\n",
      " ['58' 'White' 'Divorced' 'T3' 'N3' 'IIIC' 'Moderately differentiated'\n",
      "  '2' 'Regional' '63' 'Positive' 'Positive' '14' '7' '75' 'Alive']\n",
      " ['58' 'White' 'Married' 'T1' 'N1' 'IIA' 'Poorly differentiated' '3'\n",
      "  'Regional' '18' 'Positive' 'Positive' '2' '1' '84' 'Alive']]\n"
     ]
    }
   ],
   "source": [
    "import pandas as pd\n",
    "import numpy as np\n",
    "file1 = np.loadtxt(\"breast-cancer/Breast_Cancer.csv\", delimiter = ',',dtype = str)\n",
    "print(file1[0:5])"
   ]
  },
  {
   "cell_type": "code",
   "execution_count": 6,
   "id": "inner-adams",
   "metadata": {},
   "outputs": [
    {
     "name": "stdout",
     "output_type": "stream",
     "text": [
      "[['68' 'White' 'Married' 'T1' 'N1' 'IIA' 'Poorly differentiated' '3'\n",
      "  'Regional' '4' 'Positive' 'Positive' '24' '1' '60' 'Alive']\n",
      " ['50' 'White' 'Married' 'T2' 'N2' 'IIIA' 'Moderately differentiated' '2'\n",
      "  'Regional' '35' 'Positive' 'Positive' '14' '5' '62' 'Alive']\n",
      " ['58' 'White' 'Divorced' 'T3' 'N3' 'IIIC' 'Moderately differentiated'\n",
      "  '2' 'Regional' '63' 'Positive' 'Positive' '14' '7' '75' 'Alive']\n",
      " ['58' 'White' 'Married' 'T1' 'N1' 'IIA' 'Poorly differentiated' '3'\n",
      "  'Regional' '18' 'Positive' 'Positive' '2' '1' '84' 'Alive']\n",
      " ['47' 'White' 'Married' 'T2' 'N1' 'IIB' 'Poorly differentiated' '3'\n",
      "  'Regional' '41' 'Positive' 'Positive' '3' '1' '50' 'Alive']]\n"
     ]
    }
   ],
   "source": [
    "#no header\n",
    "file1 = np.loadtxt(\"breast-cancer/Breast_Cancer.csv\", delimiter = ',',dtype = str, skiprows = 1)\n",
    "print(file1[0:5])"
   ]
  },
  {
   "cell_type": "code",
   "execution_count": 10,
   "id": "retired-appeal",
   "metadata": {},
   "outputs": [
    {
     "data": {
      "text/html": [
       "<div>\n",
       "<style scoped>\n",
       "    .dataframe tbody tr th:only-of-type {\n",
       "        vertical-align: middle;\n",
       "    }\n",
       "\n",
       "    .dataframe tbody tr th {\n",
       "        vertical-align: top;\n",
       "    }\n",
       "\n",
       "    .dataframe thead th {\n",
       "        text-align: right;\n",
       "    }\n",
       "</style>\n",
       "<table border=\"1\" class=\"dataframe\">\n",
       "  <thead>\n",
       "    <tr style=\"text-align: right;\">\n",
       "      <th></th>\n",
       "      <th>Age</th>\n",
       "      <th>Race</th>\n",
       "      <th>Marital Status</th>\n",
       "      <th>T Stage</th>\n",
       "      <th>N Stage</th>\n",
       "      <th>6th Stage</th>\n",
       "      <th>differentiate</th>\n",
       "      <th>Grade</th>\n",
       "      <th>A Stage</th>\n",
       "      <th>Tumor Size</th>\n",
       "      <th>Estrogen Status</th>\n",
       "      <th>Progesterone Status</th>\n",
       "      <th>Regional Node Examined</th>\n",
       "      <th>Reginol Node Positive</th>\n",
       "      <th>Survival Months</th>\n",
       "      <th>Status</th>\n",
       "    </tr>\n",
       "  </thead>\n",
       "  <tbody>\n",
       "    <tr>\n",
       "      <th>0</th>\n",
       "      <td>68</td>\n",
       "      <td>White</td>\n",
       "      <td>Married</td>\n",
       "      <td>T1</td>\n",
       "      <td>N1</td>\n",
       "      <td>IIA</td>\n",
       "      <td>Poorly differentiated</td>\n",
       "      <td>3</td>\n",
       "      <td>Regional</td>\n",
       "      <td>4</td>\n",
       "      <td>Positive</td>\n",
       "      <td>Positive</td>\n",
       "      <td>24</td>\n",
       "      <td>1</td>\n",
       "      <td>60</td>\n",
       "      <td>Alive</td>\n",
       "    </tr>\n",
       "    <tr>\n",
       "      <th>1</th>\n",
       "      <td>50</td>\n",
       "      <td>White</td>\n",
       "      <td>Married</td>\n",
       "      <td>T2</td>\n",
       "      <td>N2</td>\n",
       "      <td>IIIA</td>\n",
       "      <td>Moderately differentiated</td>\n",
       "      <td>2</td>\n",
       "      <td>Regional</td>\n",
       "      <td>35</td>\n",
       "      <td>Positive</td>\n",
       "      <td>Positive</td>\n",
       "      <td>14</td>\n",
       "      <td>5</td>\n",
       "      <td>62</td>\n",
       "      <td>Alive</td>\n",
       "    </tr>\n",
       "    <tr>\n",
       "      <th>2</th>\n",
       "      <td>58</td>\n",
       "      <td>White</td>\n",
       "      <td>Divorced</td>\n",
       "      <td>T3</td>\n",
       "      <td>N3</td>\n",
       "      <td>IIIC</td>\n",
       "      <td>Moderately differentiated</td>\n",
       "      <td>2</td>\n",
       "      <td>Regional</td>\n",
       "      <td>63</td>\n",
       "      <td>Positive</td>\n",
       "      <td>Positive</td>\n",
       "      <td>14</td>\n",
       "      <td>7</td>\n",
       "      <td>75</td>\n",
       "      <td>Alive</td>\n",
       "    </tr>\n",
       "    <tr>\n",
       "      <th>3</th>\n",
       "      <td>58</td>\n",
       "      <td>White</td>\n",
       "      <td>Married</td>\n",
       "      <td>T1</td>\n",
       "      <td>N1</td>\n",
       "      <td>IIA</td>\n",
       "      <td>Poorly differentiated</td>\n",
       "      <td>3</td>\n",
       "      <td>Regional</td>\n",
       "      <td>18</td>\n",
       "      <td>Positive</td>\n",
       "      <td>Positive</td>\n",
       "      <td>2</td>\n",
       "      <td>1</td>\n",
       "      <td>84</td>\n",
       "      <td>Alive</td>\n",
       "    </tr>\n",
       "    <tr>\n",
       "      <th>4</th>\n",
       "      <td>47</td>\n",
       "      <td>White</td>\n",
       "      <td>Married</td>\n",
       "      <td>T2</td>\n",
       "      <td>N1</td>\n",
       "      <td>IIB</td>\n",
       "      <td>Poorly differentiated</td>\n",
       "      <td>3</td>\n",
       "      <td>Regional</td>\n",
       "      <td>41</td>\n",
       "      <td>Positive</td>\n",
       "      <td>Positive</td>\n",
       "      <td>3</td>\n",
       "      <td>1</td>\n",
       "      <td>50</td>\n",
       "      <td>Alive</td>\n",
       "    </tr>\n",
       "    <tr>\n",
       "      <th>5</th>\n",
       "      <td>51</td>\n",
       "      <td>White</td>\n",
       "      <td>Single</td>\n",
       "      <td>T1</td>\n",
       "      <td>N1</td>\n",
       "      <td>IIA</td>\n",
       "      <td>Moderately differentiated</td>\n",
       "      <td>2</td>\n",
       "      <td>Regional</td>\n",
       "      <td>20</td>\n",
       "      <td>Positive</td>\n",
       "      <td>Positive</td>\n",
       "      <td>18</td>\n",
       "      <td>2</td>\n",
       "      <td>89</td>\n",
       "      <td>Alive</td>\n",
       "    </tr>\n",
       "    <tr>\n",
       "      <th>6</th>\n",
       "      <td>51</td>\n",
       "      <td>White</td>\n",
       "      <td>Married</td>\n",
       "      <td>T1</td>\n",
       "      <td>N1</td>\n",
       "      <td>IIA</td>\n",
       "      <td>Well differentiated</td>\n",
       "      <td>1</td>\n",
       "      <td>Regional</td>\n",
       "      <td>8</td>\n",
       "      <td>Positive</td>\n",
       "      <td>Positive</td>\n",
       "      <td>11</td>\n",
       "      <td>1</td>\n",
       "      <td>54</td>\n",
       "      <td>Alive</td>\n",
       "    </tr>\n",
       "    <tr>\n",
       "      <th>7</th>\n",
       "      <td>40</td>\n",
       "      <td>White</td>\n",
       "      <td>Married</td>\n",
       "      <td>T2</td>\n",
       "      <td>N1</td>\n",
       "      <td>IIB</td>\n",
       "      <td>Moderately differentiated</td>\n",
       "      <td>2</td>\n",
       "      <td>Regional</td>\n",
       "      <td>30</td>\n",
       "      <td>Positive</td>\n",
       "      <td>Positive</td>\n",
       "      <td>9</td>\n",
       "      <td>1</td>\n",
       "      <td>14</td>\n",
       "      <td>Dead</td>\n",
       "    </tr>\n",
       "    <tr>\n",
       "      <th>8</th>\n",
       "      <td>40</td>\n",
       "      <td>White</td>\n",
       "      <td>Divorced</td>\n",
       "      <td>T4</td>\n",
       "      <td>N3</td>\n",
       "      <td>IIIC</td>\n",
       "      <td>Poorly differentiated</td>\n",
       "      <td>3</td>\n",
       "      <td>Regional</td>\n",
       "      <td>103</td>\n",
       "      <td>Positive</td>\n",
       "      <td>Positive</td>\n",
       "      <td>20</td>\n",
       "      <td>18</td>\n",
       "      <td>70</td>\n",
       "      <td>Alive</td>\n",
       "    </tr>\n",
       "    <tr>\n",
       "      <th>9</th>\n",
       "      <td>69</td>\n",
       "      <td>White</td>\n",
       "      <td>Married</td>\n",
       "      <td>T4</td>\n",
       "      <td>N3</td>\n",
       "      <td>IIIC</td>\n",
       "      <td>Well differentiated</td>\n",
       "      <td>1</td>\n",
       "      <td>Distant</td>\n",
       "      <td>32</td>\n",
       "      <td>Positive</td>\n",
       "      <td>Positive</td>\n",
       "      <td>21</td>\n",
       "      <td>12</td>\n",
       "      <td>92</td>\n",
       "      <td>Alive</td>\n",
       "    </tr>\n",
       "  </tbody>\n",
       "</table>\n",
       "</div>"
      ],
      "text/plain": [
       "   Age   Race Marital Status T Stage  N Stage 6th Stage  \\\n",
       "0   68  White        Married       T1      N1       IIA   \n",
       "1   50  White        Married       T2      N2      IIIA   \n",
       "2   58  White       Divorced       T3      N3      IIIC   \n",
       "3   58  White        Married       T1      N1       IIA   \n",
       "4   47  White        Married       T2      N1       IIB   \n",
       "5   51  White        Single        T1      N1       IIA   \n",
       "6   51  White        Married       T1      N1       IIA   \n",
       "7   40  White        Married       T2      N1       IIB   \n",
       "8   40  White       Divorced       T4      N3      IIIC   \n",
       "9   69  White        Married       T4      N3      IIIC   \n",
       "\n",
       "               differentiate  Grade   A Stage  Tumor Size Estrogen Status  \\\n",
       "0      Poorly differentiated      3  Regional           4        Positive   \n",
       "1  Moderately differentiated      2  Regional          35        Positive   \n",
       "2  Moderately differentiated      2  Regional          63        Positive   \n",
       "3      Poorly differentiated      3  Regional          18        Positive   \n",
       "4      Poorly differentiated      3  Regional          41        Positive   \n",
       "5  Moderately differentiated      2  Regional          20        Positive   \n",
       "6        Well differentiated      1  Regional           8        Positive   \n",
       "7  Moderately differentiated      2  Regional          30        Positive   \n",
       "8      Poorly differentiated      3  Regional         103        Positive   \n",
       "9        Well differentiated      1   Distant          32        Positive   \n",
       "\n",
       "  Progesterone Status  Regional Node Examined  Reginol Node Positive  \\\n",
       "0            Positive                      24                      1   \n",
       "1            Positive                      14                      5   \n",
       "2            Positive                      14                      7   \n",
       "3            Positive                       2                      1   \n",
       "4            Positive                       3                      1   \n",
       "5            Positive                      18                      2   \n",
       "6            Positive                      11                      1   \n",
       "7            Positive                       9                      1   \n",
       "8            Positive                      20                     18   \n",
       "9            Positive                      21                     12   \n",
       "\n",
       "   Survival Months Status  \n",
       "0               60  Alive  \n",
       "1               62  Alive  \n",
       "2               75  Alive  \n",
       "3               84  Alive  \n",
       "4               50  Alive  \n",
       "5               89  Alive  \n",
       "6               54  Alive  \n",
       "7               14   Dead  \n",
       "8               70  Alive  \n",
       "9               92  Alive  "
      ]
     },
     "execution_count": 10,
     "metadata": {},
     "output_type": "execute_result"
    }
   ],
   "source": [
    "file2 =  pd.read_csv(\"breast-cancer/Breast_Cancer.csv\",nrows= 10)\n",
    "file2.head(10)\n",
    "\n"
   ]
  },
  {
   "cell_type": "code",
   "execution_count": 11,
   "id": "perceived-clinton",
   "metadata": {},
   "outputs": [
    {
     "name": "stdout",
     "output_type": "stream",
     "text": [
      "<class 'pandas.core.frame.DataFrame'>\n",
      "RangeIndex: 10 entries, 0 to 9\n",
      "Data columns (total 16 columns):\n",
      " #   Column                  Non-Null Count  Dtype \n",
      "---  ------                  --------------  ----- \n",
      " 0   Age                     10 non-null     int64 \n",
      " 1   Race                    10 non-null     object\n",
      " 2   Marital Status          10 non-null     object\n",
      " 3   T Stage                 10 non-null     object\n",
      " 4   N Stage                 10 non-null     object\n",
      " 5   6th Stage               10 non-null     object\n",
      " 6   differentiate           10 non-null     object\n",
      " 7   Grade                   10 non-null     int64 \n",
      " 8   A Stage                 10 non-null     object\n",
      " 9   Tumor Size              10 non-null     int64 \n",
      " 10  Estrogen Status         10 non-null     object\n",
      " 11  Progesterone Status     10 non-null     object\n",
      " 12  Regional Node Examined  10 non-null     int64 \n",
      " 13  Reginol Node Positive   10 non-null     int64 \n",
      " 14  Survival Months         10 non-null     int64 \n",
      " 15  Status                  10 non-null     object\n",
      "dtypes: int64(6), object(10)\n",
      "memory usage: 1.4+ KB\n"
     ]
    }
   ],
   "source": [
    "file2.info()"
   ]
  },
  {
   "cell_type": "markdown",
   "id": "uniform-excitement",
   "metadata": {},
   "source": [
    "### Think of two-three questions/problems which you think, you can analyze from the data"
   ]
  },
  {
   "cell_type": "markdown",
   "id": "criminal-corps",
   "metadata": {},
   "source": [
    "#### 1. Perform an exploratory data analysis to spot anomalies and summarize the statistics of the data.\n",
    "#### 2. What factors influence cancer - age, race, marital status?\n",
    "#### 3. How many of patients were alive after diagnosis?"
   ]
  },
  {
   "cell_type": "code",
   "execution_count": null,
   "id": "grave-registration",
   "metadata": {},
   "outputs": [],
   "source": []
  }
 ],
 "metadata": {
  "kernelspec": {
   "display_name": "Python 3",
   "language": "python",
   "name": "python3"
  },
  "language_info": {
   "codemirror_mode": {
    "name": "ipython",
    "version": 3
   },
   "file_extension": ".py",
   "mimetype": "text/x-python",
   "name": "python",
   "nbconvert_exporter": "python",
   "pygments_lexer": "ipython3",
   "version": "3.9.13"
  }
 },
 "nbformat": 4,
 "nbformat_minor": 5
}
